{
 "cells": [
  {
   "cell_type": "code",
   "execution_count": 7,
   "metadata": {},
   "outputs": [],
   "source": [
    "import pandas as pd\n",
    "import numpy as np\n",
    "from sklearn.model_selection import train_test_split\n",
    "from sklearn.preprocessing import MinMaxScaler\n",
    "from xgboost import XGBRegressor\n",
    "from sklearn.metrics import mean_squared_error\n",
    "from math import sqrt"
   ]
  },
  {
   "cell_type": "code",
   "execution_count": 8,
   "metadata": {},
   "outputs": [],
   "source": [
    "df = pd.read_csv('schedulenets.csv')"
   ]
  },
  {
   "cell_type": "code",
   "execution_count": 11,
   "metadata": {},
   "outputs": [
    {
     "data": {
      "text/html": [
       "<div>\n",
       "<style scoped>\n",
       "    .dataframe tbody tr th:only-of-type {\n",
       "        vertical-align: middle;\n",
       "    }\n",
       "\n",
       "    .dataframe tbody tr th {\n",
       "        vertical-align: top;\n",
       "    }\n",
       "\n",
       "    .dataframe thead th {\n",
       "        text-align: right;\n",
       "    }\n",
       "</style>\n",
       "<table border=\"1\" class=\"dataframe\">\n",
       "  <thead>\n",
       "    <tr style=\"text-align: right;\">\n",
       "      <th></th>\n",
       "      <th>Date</th>\n",
       "      <th>Time</th>\n",
       "      <th>Voltage</th>\n",
       "    </tr>\n",
       "  </thead>\n",
       "  <tbody>\n",
       "    <tr>\n",
       "      <th>1</th>\n",
       "      <td>2018-11-05</td>\n",
       "      <td>12:53</td>\n",
       "      <td>372.000000</td>\n",
       "    </tr>\n",
       "    <tr>\n",
       "      <th>9</th>\n",
       "      <td>2018-11-05</td>\n",
       "      <td>17:42</td>\n",
       "      <td>371.686299</td>\n",
       "    </tr>\n",
       "    <tr>\n",
       "      <th>0</th>\n",
       "      <td>2018-11-06</td>\n",
       "      <td>17:31</td>\n",
       "      <td>372.000000</td>\n",
       "    </tr>\n",
       "    <tr>\n",
       "      <th>14</th>\n",
       "      <td>2018-11-10</td>\n",
       "      <td>16:59</td>\n",
       "      <td>373.000000</td>\n",
       "    </tr>\n",
       "    <tr>\n",
       "      <th>3</th>\n",
       "      <td>2018-11-11</td>\n",
       "      <td>16:58</td>\n",
       "      <td>373.000000</td>\n",
       "    </tr>\n",
       "    <tr>\n",
       "      <th>...</th>\n",
       "      <td>...</td>\n",
       "      <td>...</td>\n",
       "      <td>...</td>\n",
       "    </tr>\n",
       "    <tr>\n",
       "      <th>10534</th>\n",
       "      <td>2021-06-11</td>\n",
       "      <td>09:30</td>\n",
       "      <td>550.000000</td>\n",
       "    </tr>\n",
       "    <tr>\n",
       "      <th>10538</th>\n",
       "      <td>2021-06-11</td>\n",
       "      <td>09:30</td>\n",
       "      <td>200.000000</td>\n",
       "    </tr>\n",
       "    <tr>\n",
       "      <th>10539</th>\n",
       "      <td>2021-06-11</td>\n",
       "      <td>04:27</td>\n",
       "      <td>546.000000</td>\n",
       "    </tr>\n",
       "    <tr>\n",
       "      <th>10540</th>\n",
       "      <td>2021-06-11</td>\n",
       "      <td>06:07</td>\n",
       "      <td>466.000000</td>\n",
       "    </tr>\n",
       "    <tr>\n",
       "      <th>10542</th>\n",
       "      <td>2021-06-11</td>\n",
       "      <td>09:06</td>\n",
       "      <td>546.000000</td>\n",
       "    </tr>\n",
       "  </tbody>\n",
       "</table>\n",
       "<p>10543 rows × 3 columns</p>\n",
       "</div>"
      ],
      "text/plain": [
       "             Date   Time     Voltage\n",
       "1      2018-11-05  12:53  372.000000\n",
       "9      2018-11-05  17:42  371.686299\n",
       "0      2018-11-06  17:31  372.000000\n",
       "14     2018-11-10  16:59  373.000000\n",
       "3      2018-11-11  16:58  373.000000\n",
       "...           ...    ...         ...\n",
       "10534  2021-06-11  09:30  550.000000\n",
       "10538  2021-06-11  09:30  200.000000\n",
       "10539  2021-06-11  04:27  546.000000\n",
       "10540  2021-06-11  06:07  466.000000\n",
       "10542  2021-06-11  09:06  546.000000\n",
       "\n",
       "[10543 rows x 3 columns]"
      ]
     },
     "execution_count": 11,
     "metadata": {},
     "output_type": "execute_result"
    }
   ],
   "source": [
    "df['time'] = pd.to_datetime(df['updatedAt'])\n",
    "\n",
    "df['Date'] = df['time'].dt.date\n",
    "df['Time'] = df['time'].dt.strftime('%H:%M')\n",
    "df['Voltage']=df['block_1']\n",
    "\n",
    "df = df[[ 'Date', 'Time','Voltage']]\n",
    "df"
   ]
  },
  {
   "cell_type": "code",
   "execution_count": 12,
   "metadata": {},
   "outputs": [
    {
     "data": {
      "text/html": [
       "<div>\n",
       "<style scoped>\n",
       "    .dataframe tbody tr th:only-of-type {\n",
       "        vertical-align: middle;\n",
       "    }\n",
       "\n",
       "    .dataframe tbody tr th {\n",
       "        vertical-align: top;\n",
       "    }\n",
       "\n",
       "    .dataframe thead th {\n",
       "        text-align: right;\n",
       "    }\n",
       "</style>\n",
       "<table border=\"1\" class=\"dataframe\">\n",
       "  <thead>\n",
       "    <tr style=\"text-align: right;\">\n",
       "      <th></th>\n",
       "      <th>Date</th>\n",
       "      <th>Time_Intervals</th>\n",
       "      <th>Average_Voltage</th>\n",
       "    </tr>\n",
       "  </thead>\n",
       "  <tbody>\n",
       "    <tr>\n",
       "      <th>0</th>\n",
       "      <td>2018-11-05</td>\n",
       "      <td>12:45 to 12:60</td>\n",
       "      <td>417.272665</td>\n",
       "    </tr>\n",
       "    <tr>\n",
       "      <th>1</th>\n",
       "      <td>2018-11-05</td>\n",
       "      <td>17:30 to 17:45</td>\n",
       "      <td>407.169412</td>\n",
       "    </tr>\n",
       "    <tr>\n",
       "      <th>2</th>\n",
       "      <td>2018-11-06</td>\n",
       "      <td>17:30 to 17:45</td>\n",
       "      <td>407.169412</td>\n",
       "    </tr>\n",
       "    <tr>\n",
       "      <th>3</th>\n",
       "      <td>2018-11-10</td>\n",
       "      <td>16:45 to 16:60</td>\n",
       "      <td>386.672865</td>\n",
       "    </tr>\n",
       "    <tr>\n",
       "      <th>4</th>\n",
       "      <td>2018-11-11</td>\n",
       "      <td>16:45 to 16:60</td>\n",
       "      <td>386.672865</td>\n",
       "    </tr>\n",
       "    <tr>\n",
       "      <th>...</th>\n",
       "      <td>...</td>\n",
       "      <td>...</td>\n",
       "      <td>...</td>\n",
       "    </tr>\n",
       "    <tr>\n",
       "      <th>6540</th>\n",
       "      <td>2021-06-11</td>\n",
       "      <td>04:15 to 04:30</td>\n",
       "      <td>391.285290</td>\n",
       "    </tr>\n",
       "    <tr>\n",
       "      <th>6541</th>\n",
       "      <td>2021-06-11</td>\n",
       "      <td>06:00 to 06:15</td>\n",
       "      <td>401.741830</td>\n",
       "    </tr>\n",
       "    <tr>\n",
       "      <th>6542</th>\n",
       "      <td>2021-06-11</td>\n",
       "      <td>08:30 to 08:45</td>\n",
       "      <td>401.910695</td>\n",
       "    </tr>\n",
       "    <tr>\n",
       "      <th>6543</th>\n",
       "      <td>2021-06-11</td>\n",
       "      <td>09:00 to 09:15</td>\n",
       "      <td>397.025748</td>\n",
       "    </tr>\n",
       "    <tr>\n",
       "      <th>6544</th>\n",
       "      <td>2021-06-11</td>\n",
       "      <td>09:30 to 09:45</td>\n",
       "      <td>398.415216</td>\n",
       "    </tr>\n",
       "  </tbody>\n",
       "</table>\n",
       "<p>6545 rows × 3 columns</p>\n",
       "</div>"
      ],
      "text/plain": [
       "            Date  Time_Intervals  Average_Voltage\n",
       "0     2018-11-05  12:45 to 12:60       417.272665\n",
       "1     2018-11-05  17:30 to 17:45       407.169412\n",
       "2     2018-11-06  17:30 to 17:45       407.169412\n",
       "3     2018-11-10  16:45 to 16:60       386.672865\n",
       "4     2018-11-11  16:45 to 16:60       386.672865\n",
       "...          ...             ...              ...\n",
       "6540  2021-06-11  04:15 to 04:30       391.285290\n",
       "6541  2021-06-11  06:00 to 06:15       401.741830\n",
       "6542  2021-06-11  08:30 to 08:45       401.910695\n",
       "6543  2021-06-11  09:00 to 09:15       397.025748\n",
       "6544  2021-06-11  09:30 to 09:45       398.415216\n",
       "\n",
       "[6545 rows x 3 columns]"
      ]
     },
     "execution_count": 12,
     "metadata": {},
     "output_type": "execute_result"
    }
   ],
   "source": [
    "df['Time_Intervals'] = df['Time'].apply(lambda x: f\"{x[:2]}:{int(x[3:]) // 15 * 15:02d} to {x[:2]}:{(int(x[3:]) // 15 + 1) * 15:02d}\")\n",
    "df['Average_Voltage'] = df.groupby('Time_Intervals')['Voltage'].transform('mean')\n",
    "\n",
    "df = df.groupby(['Date', 'Time_Intervals']).agg({'Average_Voltage': 'mean'}).reset_index()\n",
    "\n",
    "data = df[[ 'Date', 'Time_Intervals','Average_Voltage']]\n",
    "# df.to_csv('voltage_with_Intervals.csv', index=False) \n",
    "data"
   ]
  },
  {
   "cell_type": "code",
   "execution_count": 27,
   "metadata": {},
   "outputs": [],
   "source": [
    "# Assuming your data is stored in a DataFrame named 'data'\n",
    "data['Date'] = pd.to_datetime(data['Date'])"
   ]
  },
  {
   "cell_type": "code",
   "execution_count": 28,
   "metadata": {},
   "outputs": [
    {
     "data": {
      "text/plain": [
       "0      2018-11-05 13:00:00\n",
       "1      2018-11-05 17:45:00\n",
       "2      2018-11-06 17:45:00\n",
       "3      2018-11-10 17:00:00\n",
       "4      2018-11-11 17:00:00\n",
       "               ...        \n",
       "6540   2021-06-11 04:30:00\n",
       "6541   2021-06-11 06:15:00\n",
       "6542   2021-06-11 08:45:00\n",
       "6543   2021-06-11 09:15:00\n",
       "6544   2021-06-11 09:45:00\n",
       "Name: Time_Interval_End, Length: 6545, dtype: datetime64[ns]"
      ]
     },
     "execution_count": 28,
     "metadata": {},
     "output_type": "execute_result"
    }
   ],
   "source": [
    "# Extract hours and minutes from 'Time_Intervals'\n",
    "time_intervals = data['Time_Intervals'].str.extract(r'(\\d+):(\\d+) to (\\d+):(\\d+)')\n",
    "data['Hour_Start'] = time_intervals[0].astype(int)\n",
    "data['Minute_Start'] = time_intervals[1].astype(int)\n",
    "data['Hour_End'] = time_intervals[2].astype(int)\n",
    "data['Minute_End'] = time_intervals[3].astype(int)\n",
    "\n",
    "# Convert 'Time_Start' and 'Time_End' to timedelta\n",
    "data['Time_Start'] = pd.to_timedelta(data['Hour_Start'], unit='h') + pd.to_timedelta(data['Minute_Start'], unit='m')\n",
    "data['Time_End'] = pd.to_timedelta(data['Hour_End'], unit='h') + pd.to_timedelta(data['Minute_End'], unit='m')\n",
    "\n",
    "# Calculate the start and end times\n",
    "data['Time_Interval_Start'] = data['Date'] + data['Time_Start']\n",
    "data['Time_Interval_End'] = data['Date'] + data['Time_End']\n",
    "data['Time_Interval_End']\n",
    "data['Time_Interval_End']"
   ]
  },
  {
   "cell_type": "code",
   "execution_count": 29,
   "metadata": {},
   "outputs": [],
   "source": [
    "# Feature engineering: Extract relevant time features\n",
    "data['Hour'] = data['Time_Interval_Start'].dt.hour\n",
    "data['Minute'] = data['Time_Interval_Start'].dt.minute"
   ]
  },
  {
   "cell_type": "code",
   "execution_count": 30,
   "metadata": {},
   "outputs": [],
   "source": [
    "# Assuming 'Average_Voltage' is your target variable\n",
    "target = 'Average_Voltage'"
   ]
  },
  {
   "cell_type": "code",
   "execution_count": 31,
   "metadata": {},
   "outputs": [],
   "source": [
    "# Select features\n",
    "features = ['Hour', 'Minute']  # You can add more features based on your data"
   ]
  },
  {
   "cell_type": "code",
   "execution_count": 32,
   "metadata": {},
   "outputs": [],
   "source": [
    "# Split the data into train and test sets\n",
    "train, test = train_test_split(data, test_size=0.2, shuffle=False) "
   ]
  },
  {
   "cell_type": "code",
   "execution_count": 33,
   "metadata": {},
   "outputs": [
    {
     "data": {
      "text/plain": [
       "XGBRegressor(base_score=None, booster=None, callbacks=None,\n",
       "             colsample_bylevel=None, colsample_bynode=None,\n",
       "             colsample_bytree=None, device=None, early_stopping_rounds=None,\n",
       "             enable_categorical=False, eval_metric=None, feature_types=None,\n",
       "             gamma=None, grow_policy=None, importance_type=None,\n",
       "             interaction_constraints=None, learning_rate=None, max_bin=None,\n",
       "             max_cat_threshold=None, max_cat_to_onehot=None,\n",
       "             max_delta_step=None, max_depth=None, max_leaves=None,\n",
       "             min_child_weight=None, missing=nan, monotone_constraints=None,\n",
       "             multi_strategy=None, n_estimators=None, n_jobs=None,\n",
       "             num_parallel_tree=None, random_state=None, ...)"
      ]
     },
     "execution_count": 33,
     "metadata": {},
     "output_type": "execute_result"
    }
   ],
   "source": [
    "# Create XGBoost model\n",
    "model = XGBRegressor()\n",
    "model.fit(train[features], train[target])"
   ]
  },
  {
   "cell_type": "code",
   "execution_count": 34,
   "metadata": {},
   "outputs": [],
   "source": [
    "# Make predictions on the test set\n",
    "predictions = model.predict(test[features])"
   ]
  },
  {
   "cell_type": "code",
   "execution_count": 36,
   "metadata": {},
   "outputs": [
    {
     "name": "stdout",
     "output_type": "stream",
     "text": [
      "Root Mean Squared Error (RMSE): 0.0010426967621367902\n"
     ]
    }
   ],
   "source": [
    "# Evaluate the model\n",
    "rmse = sqrt(mean_squared_error(test[target], predictions))\n",
    "print(f\"Root Mean Squared Error (RMSE): {rmse}\")"
   ]
  },
  {
   "cell_type": "code",
   "execution_count": 38,
   "metadata": {},
   "outputs": [
    {
     "name": "stdout",
     "output_type": "stream",
     "text": [
      "Accuracy: 100.00%\n"
     ]
    }
   ],
   "source": [
    "from sklearn.metrics import mean_squared_error\n",
    "from math import sqrt\n",
    "\n",
    "# rmse=rmse(predictions,test['y'])\n",
    "# Calculate the mean of the test data\n",
    "mean_value = test[target].mean()\n",
    "\n",
    "# Calculate the accuracy in percentage\n",
    "accuracy = (1 - (rmse / mean_value)) * 100\n",
    "\n",
    "print(f\"Accuracy: {accuracy:.2f}%\")"
   ]
  },
  {
   "cell_type": "code",
   "execution_count": null,
   "metadata": {},
   "outputs": [],
   "source": []
  },
  {
   "cell_type": "code",
   "execution_count": null,
   "metadata": {},
   "outputs": [],
   "source": []
  },
  {
   "cell_type": "code",
   "execution_count": null,
   "metadata": {},
   "outputs": [],
   "source": []
  },
  {
   "cell_type": "code",
   "execution_count": null,
   "metadata": {},
   "outputs": [],
   "source": []
  },
  {
   "cell_type": "code",
   "execution_count": null,
   "metadata": {},
   "outputs": [],
   "source": []
  }
 ],
 "metadata": {
  "kernelspec": {
   "display_name": "base",
   "language": "python",
   "name": "python3"
  },
  "language_info": {
   "codemirror_mode": {
    "name": "ipython",
    "version": 3
   },
   "file_extension": ".py",
   "mimetype": "text/x-python",
   "name": "python",
   "nbconvert_exporter": "python",
   "pygments_lexer": "ipython3",
   "version": "3.9.13"
  }
 },
 "nbformat": 4,
 "nbformat_minor": 2
}
