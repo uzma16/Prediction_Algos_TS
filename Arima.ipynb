{
 "cells": [
  {
   "cell_type": "code",
   "execution_count": 1,
   "metadata": {},
   "outputs": [
    {
     "name": "stderr",
     "output_type": "stream",
     "text": [
      "c:\\Users\\Dell\\anaconda3\\lib\\site-packages\\numpy\\_distributor_init.py:30: UserWarning: loaded more than 1 DLL from .libs:\n",
      "c:\\Users\\Dell\\anaconda3\\lib\\site-packages\\numpy\\.libs\\libopenblas64__v0.3.21-gcc_10_3_0.dll\n",
      "c:\\Users\\Dell\\anaconda3\\lib\\site-packages\\numpy\\.libs\\libopenblas64__v0.3.23-246-g3d31191b-gcc_10_3_0.dll\n",
      "  warnings.warn(\"loaded more than 1 DLL from .libs:\"\n"
     ]
    }
   ],
   "source": [
    "import pandas as pd\n",
    "import matplotlib.pyplot as plt\n",
    "import seaborn as sns\n",
    "from datetime import timedelta\n",
    "import matplotlib.pyplot as plt\n",
    "from statsmodels.tsa.seasonal import seasonal_decompose\n",
    "from statsmodels.tsa.arima.model import ARIMA"
   ]
  },
  {
   "cell_type": "code",
   "execution_count": 2,
   "metadata": {},
   "outputs": [],
   "source": [
    "df = pd.read_csv('schedulenets.csv')"
   ]
  },
  {
   "cell_type": "code",
   "execution_count": 3,
   "metadata": {},
   "outputs": [
    {
     "name": "stdout",
     "output_type": "stream",
     "text": [
      "             updatedAt        Date      Time     block_1\n",
      "0  2018-11-06 17:31:06  2018-11-06  17:31:06  372.000000\n",
      "1  2018-11-05 12:53:55  2018-11-05  12:53:55  372.000000\n",
      "2  2018-11-12 17:16:58  2018-11-12  17:16:58  373.000000\n",
      "3  2018-11-11 16:58:16  2018-11-11  16:58:16  373.000000\n",
      "4  2018-11-13 16:52:33  2018-11-13  16:52:33  412.874368\n"
     ]
    }
   ],
   "source": [
    "print(df.head())"
   ]
  },
  {
   "cell_type": "code",
   "execution_count": 4,
   "metadata": {},
   "outputs": [
    {
     "data": {
      "text/html": [
       "<div>\n",
       "<style scoped>\n",
       "    .dataframe tbody tr th:only-of-type {\n",
       "        vertical-align: middle;\n",
       "    }\n",
       "\n",
       "    .dataframe tbody tr th {\n",
       "        vertical-align: top;\n",
       "    }\n",
       "\n",
       "    .dataframe thead th {\n",
       "        text-align: right;\n",
       "    }\n",
       "</style>\n",
       "<table border=\"1\" class=\"dataframe\">\n",
       "  <thead>\n",
       "    <tr style=\"text-align: right;\">\n",
       "      <th></th>\n",
       "      <th>Date</th>\n",
       "      <th>Time</th>\n",
       "      <th>Voltage</th>\n",
       "    </tr>\n",
       "  </thead>\n",
       "  <tbody>\n",
       "    <tr>\n",
       "      <th>0</th>\n",
       "      <td>2018-11-06</td>\n",
       "      <td>17:31</td>\n",
       "      <td>372.000000</td>\n",
       "    </tr>\n",
       "    <tr>\n",
       "      <th>1</th>\n",
       "      <td>2018-11-05</td>\n",
       "      <td>12:53</td>\n",
       "      <td>372.000000</td>\n",
       "    </tr>\n",
       "    <tr>\n",
       "      <th>2</th>\n",
       "      <td>2018-11-12</td>\n",
       "      <td>17:16</td>\n",
       "      <td>373.000000</td>\n",
       "    </tr>\n",
       "    <tr>\n",
       "      <th>3</th>\n",
       "      <td>2018-11-11</td>\n",
       "      <td>16:58</td>\n",
       "      <td>373.000000</td>\n",
       "    </tr>\n",
       "    <tr>\n",
       "      <th>4</th>\n",
       "      <td>2018-11-13</td>\n",
       "      <td>16:52</td>\n",
       "      <td>412.874368</td>\n",
       "    </tr>\n",
       "    <tr>\n",
       "      <th>...</th>\n",
       "      <td>...</td>\n",
       "      <td>...</td>\n",
       "      <td>...</td>\n",
       "    </tr>\n",
       "    <tr>\n",
       "      <th>10538</th>\n",
       "      <td>2021-06-11</td>\n",
       "      <td>09:30</td>\n",
       "      <td>200.000000</td>\n",
       "    </tr>\n",
       "    <tr>\n",
       "      <th>10539</th>\n",
       "      <td>2021-06-11</td>\n",
       "      <td>04:27</td>\n",
       "      <td>546.000000</td>\n",
       "    </tr>\n",
       "    <tr>\n",
       "      <th>10540</th>\n",
       "      <td>2021-06-11</td>\n",
       "      <td>06:07</td>\n",
       "      <td>466.000000</td>\n",
       "    </tr>\n",
       "    <tr>\n",
       "      <th>10541</th>\n",
       "      <td>2021-06-11</td>\n",
       "      <td>08:30</td>\n",
       "      <td>546.000000</td>\n",
       "    </tr>\n",
       "    <tr>\n",
       "      <th>10542</th>\n",
       "      <td>2021-06-11</td>\n",
       "      <td>09:06</td>\n",
       "      <td>546.000000</td>\n",
       "    </tr>\n",
       "  </tbody>\n",
       "</table>\n",
       "<p>10543 rows × 3 columns</p>\n",
       "</div>"
      ],
      "text/plain": [
       "             Date   Time     Voltage\n",
       "0      2018-11-06  17:31  372.000000\n",
       "1      2018-11-05  12:53  372.000000\n",
       "2      2018-11-12  17:16  373.000000\n",
       "3      2018-11-11  16:58  373.000000\n",
       "4      2018-11-13  16:52  412.874368\n",
       "...           ...    ...         ...\n",
       "10538  2021-06-11  09:30  200.000000\n",
       "10539  2021-06-11  04:27  546.000000\n",
       "10540  2021-06-11  06:07  466.000000\n",
       "10541  2021-06-11  08:30  546.000000\n",
       "10542  2021-06-11  09:06  546.000000\n",
       "\n",
       "[10543 rows x 3 columns]"
      ]
     },
     "execution_count": 4,
     "metadata": {},
     "output_type": "execute_result"
    }
   ],
   "source": [
    "# Convert 'time' column to datetime\n",
    "\n",
    "# df['Date'] = df['Date']\n",
    "# # df['Time'] = df['Time']\n",
    "\n",
    "# df['Time'] = df['time'].dt.strftime('%H:%M')\n",
    "df['time'] = pd.to_datetime(df['updatedAt'])\n",
    "\n",
    "df['Date'] = df['time'].dt.date\n",
    "df['Time'] = df['time'].dt.strftime('%H:%M')\n",
    "df['Voltage']=df['block_1']\n",
    "\n",
    "df = df[[ 'Date', 'Time','Voltage']]\n",
    "df"
   ]
  },
  {
   "cell_type": "code",
   "execution_count": 5,
   "metadata": {},
   "outputs": [
    {
     "data": {
      "text/html": [
       "<div>\n",
       "<style scoped>\n",
       "    .dataframe tbody tr th:only-of-type {\n",
       "        vertical-align: middle;\n",
       "    }\n",
       "\n",
       "    .dataframe tbody tr th {\n",
       "        vertical-align: top;\n",
       "    }\n",
       "\n",
       "    .dataframe thead th {\n",
       "        text-align: right;\n",
       "    }\n",
       "</style>\n",
       "<table border=\"1\" class=\"dataframe\">\n",
       "  <thead>\n",
       "    <tr style=\"text-align: right;\">\n",
       "      <th></th>\n",
       "      <th>Date</th>\n",
       "      <th>Time_Intervals</th>\n",
       "      <th>Average_Voltage</th>\n",
       "    </tr>\n",
       "  </thead>\n",
       "  <tbody>\n",
       "    <tr>\n",
       "      <th>0</th>\n",
       "      <td>2018-11-05</td>\n",
       "      <td>12:45 to 12:60</td>\n",
       "      <td>417.272665</td>\n",
       "    </tr>\n",
       "    <tr>\n",
       "      <th>1</th>\n",
       "      <td>2018-11-05</td>\n",
       "      <td>17:30 to 17:45</td>\n",
       "      <td>407.169412</td>\n",
       "    </tr>\n",
       "    <tr>\n",
       "      <th>2</th>\n",
       "      <td>2018-11-06</td>\n",
       "      <td>17:30 to 17:45</td>\n",
       "      <td>407.169412</td>\n",
       "    </tr>\n",
       "    <tr>\n",
       "      <th>3</th>\n",
       "      <td>2018-11-10</td>\n",
       "      <td>16:45 to 16:60</td>\n",
       "      <td>386.672865</td>\n",
       "    </tr>\n",
       "    <tr>\n",
       "      <th>4</th>\n",
       "      <td>2018-11-11</td>\n",
       "      <td>16:45 to 16:60</td>\n",
       "      <td>386.672865</td>\n",
       "    </tr>\n",
       "    <tr>\n",
       "      <th>...</th>\n",
       "      <td>...</td>\n",
       "      <td>...</td>\n",
       "      <td>...</td>\n",
       "    </tr>\n",
       "    <tr>\n",
       "      <th>6540</th>\n",
       "      <td>2021-06-11</td>\n",
       "      <td>04:15 to 04:30</td>\n",
       "      <td>391.285290</td>\n",
       "    </tr>\n",
       "    <tr>\n",
       "      <th>6541</th>\n",
       "      <td>2021-06-11</td>\n",
       "      <td>06:00 to 06:15</td>\n",
       "      <td>401.741830</td>\n",
       "    </tr>\n",
       "    <tr>\n",
       "      <th>6542</th>\n",
       "      <td>2021-06-11</td>\n",
       "      <td>08:30 to 08:45</td>\n",
       "      <td>401.910695</td>\n",
       "    </tr>\n",
       "    <tr>\n",
       "      <th>6543</th>\n",
       "      <td>2021-06-11</td>\n",
       "      <td>09:00 to 09:15</td>\n",
       "      <td>397.025748</td>\n",
       "    </tr>\n",
       "    <tr>\n",
       "      <th>6544</th>\n",
       "      <td>2021-06-11</td>\n",
       "      <td>09:30 to 09:45</td>\n",
       "      <td>398.415216</td>\n",
       "    </tr>\n",
       "  </tbody>\n",
       "</table>\n",
       "<p>6545 rows × 3 columns</p>\n",
       "</div>"
      ],
      "text/plain": [
       "            Date  Time_Intervals  Average_Voltage\n",
       "0     2018-11-05  12:45 to 12:60       417.272665\n",
       "1     2018-11-05  17:30 to 17:45       407.169412\n",
       "2     2018-11-06  17:30 to 17:45       407.169412\n",
       "3     2018-11-10  16:45 to 16:60       386.672865\n",
       "4     2018-11-11  16:45 to 16:60       386.672865\n",
       "...          ...             ...              ...\n",
       "6540  2021-06-11  04:15 to 04:30       391.285290\n",
       "6541  2021-06-11  06:00 to 06:15       401.741830\n",
       "6542  2021-06-11  08:30 to 08:45       401.910695\n",
       "6543  2021-06-11  09:00 to 09:15       397.025748\n",
       "6544  2021-06-11  09:30 to 09:45       398.415216\n",
       "\n",
       "[6545 rows x 3 columns]"
      ]
     },
     "execution_count": 5,
     "metadata": {},
     "output_type": "execute_result"
    }
   ],
   "source": [
    "df['Time_Intervals'] = df['Time'].apply(lambda x: f\"{x[:2]}:{int(x[3:]) // 15 * 15:02d} to {x[:2]}:{(int(x[3:]) // 15 + 1) * 15:02d}\")\n",
    "df['Average_Voltage'] = df.groupby('Time_Intervals')['Voltage'].transform('mean')\n",
    "\n",
    "df = df.groupby(['Date', 'Time_Intervals']).agg({'Average_Voltage': 'mean'}).reset_index()\n",
    "\n",
    "df = df[[ 'Date', 'Time_Intervals','Average_Voltage']]\n",
    "# df.to_csv('voltage_with_Intervals.csv', index=False) \n",
    "df"
   ]
  },
  {
   "cell_type": "code",
   "execution_count": 6,
   "metadata": {},
   "outputs": [
    {
     "data": {
      "text/plain": [
       "Date                object\n",
       "Time_Intervals      object\n",
       "Average_Voltage    float64\n",
       "dtype: object"
      ]
     },
     "execution_count": 6,
     "metadata": {},
     "output_type": "execute_result"
    }
   ],
   "source": [
    "df.dtypes"
   ]
  },
  {
   "cell_type": "code",
   "execution_count": 7,
   "metadata": {},
   "outputs": [],
   "source": [
    "# # Convert the 'Date' and 'Time_Intervals' columns to datetime\n",
    "# df['Datetime'] = pd.to_datetime(df['Date'] + ' ' + df['Time_Intervals'].str[:5])\n",
    "# df.set_index('Datetime', inplace=True)\n",
    "# df"
   ]
  },
  {
   "cell_type": "code",
   "execution_count": 8,
   "metadata": {},
   "outputs": [
    {
     "data": {
      "text/html": [
       "<div>\n",
       "<style scoped>\n",
       "    .dataframe tbody tr th:only-of-type {\n",
       "        vertical-align: middle;\n",
       "    }\n",
       "\n",
       "    .dataframe tbody tr th {\n",
       "        vertical-align: top;\n",
       "    }\n",
       "\n",
       "    .dataframe thead th {\n",
       "        text-align: right;\n",
       "    }\n",
       "</style>\n",
       "<table border=\"1\" class=\"dataframe\">\n",
       "  <thead>\n",
       "    <tr style=\"text-align: right;\">\n",
       "      <th></th>\n",
       "      <th>Average_Voltage</th>\n",
       "    </tr>\n",
       "    <tr>\n",
       "      <th>Datetime</th>\n",
       "      <th></th>\n",
       "    </tr>\n",
       "  </thead>\n",
       "  <tbody>\n",
       "    <tr>\n",
       "      <th>2018-11-05 12:45:00</th>\n",
       "      <td>417.272665</td>\n",
       "    </tr>\n",
       "    <tr>\n",
       "      <th>2018-11-05 17:30:00</th>\n",
       "      <td>407.169412</td>\n",
       "    </tr>\n",
       "    <tr>\n",
       "      <th>2018-11-06 17:30:00</th>\n",
       "      <td>407.169412</td>\n",
       "    </tr>\n",
       "    <tr>\n",
       "      <th>2018-11-10 16:45:00</th>\n",
       "      <td>386.672865</td>\n",
       "    </tr>\n",
       "    <tr>\n",
       "      <th>2018-11-11 16:45:00</th>\n",
       "      <td>386.672865</td>\n",
       "    </tr>\n",
       "    <tr>\n",
       "      <th>...</th>\n",
       "      <td>...</td>\n",
       "    </tr>\n",
       "    <tr>\n",
       "      <th>2021-06-11 04:15:00</th>\n",
       "      <td>391.285290</td>\n",
       "    </tr>\n",
       "    <tr>\n",
       "      <th>2021-06-11 06:00:00</th>\n",
       "      <td>401.741830</td>\n",
       "    </tr>\n",
       "    <tr>\n",
       "      <th>2021-06-11 08:30:00</th>\n",
       "      <td>401.910695</td>\n",
       "    </tr>\n",
       "    <tr>\n",
       "      <th>2021-06-11 09:00:00</th>\n",
       "      <td>397.025748</td>\n",
       "    </tr>\n",
       "    <tr>\n",
       "      <th>2021-06-11 09:30:00</th>\n",
       "      <td>398.415216</td>\n",
       "    </tr>\n",
       "  </tbody>\n",
       "</table>\n",
       "<p>6545 rows × 1 columns</p>\n",
       "</div>"
      ],
      "text/plain": [
       "                     Average_Voltage\n",
       "Datetime                            \n",
       "2018-11-05 12:45:00       417.272665\n",
       "2018-11-05 17:30:00       407.169412\n",
       "2018-11-06 17:30:00       407.169412\n",
       "2018-11-10 16:45:00       386.672865\n",
       "2018-11-11 16:45:00       386.672865\n",
       "...                              ...\n",
       "2021-06-11 04:15:00       391.285290\n",
       "2021-06-11 06:00:00       401.741830\n",
       "2021-06-11 08:30:00       401.910695\n",
       "2021-06-11 09:00:00       397.025748\n",
       "2021-06-11 09:30:00       398.415216\n",
       "\n",
       "[6545 rows x 1 columns]"
      ]
     },
     "execution_count": 8,
     "metadata": {},
     "output_type": "execute_result"
    }
   ],
   "source": [
    "# Convert Date to datetime if it's not already in the correct format\n",
    "df['Date'] = pd.to_datetime(df['Date'])\n",
    "\n",
    "# Extract the time from Time_Intervals\n",
    "df['Time'] = df['Time_Intervals'].str.extract(r'(\\d{2}:\\d{2})', expand=False)\n",
    "\n",
    "# Concatenate Date and Time to create Datetime\n",
    "df['Datetime'] = df['Date'].astype(str) + ' ' + df['Time']\n",
    "\n",
    "# Convert Datetime to datetime format\n",
    "df['Datetime'] = pd.to_datetime(df['Datetime'])\n",
    "\n",
    "# Set Datetime as the index\n",
    "df.set_index('Datetime', inplace=True)\n",
    "\n",
    "# Drop unnecessary columns if needed\n",
    "df.drop(['Date', 'Time_Intervals', 'Time'], axis=1, inplace=True)\n",
    "\n",
    "# Display the modified DataFrame\n",
    "df\n"
   ]
  },
  {
   "cell_type": "code",
   "execution_count": 9,
   "metadata": {},
   "outputs": [
    {
     "name": "stdout",
     "output_type": "stream",
     "text": [
      "ADF Test Statistic : -10.40332169328537\n",
      "p-value : 1.8846090008131363e-18\n",
      "#Lags Used : 33\n",
      "Number of Observations Used : 6511\n",
      "strong evidence against the null hypothesis(Ho), reject the null hypothesis. Data has no unit root and is stationary\n"
     ]
    }
   ],
   "source": [
    "from statsmodels.tsa.stattools import adfuller\n",
    "\n",
    "#Ho: It is non stationary\n",
    "#H1: It is stationary\n",
    "\n",
    "def adfuller_test(Voltage):\n",
    "    result=adfuller(Voltage)\n",
    "    labels = ['ADF Test Statistic','p-value','#Lags Used','Number of Observations Used']\n",
    "    for value,label in zip(result,labels):\n",
    "        print(label+' : '+str(value) )\n",
    "    if result[1] <= 0.05:\n",
    "        print(\"strong evidence against the null hypothesis(Ho), reject the null hypothesis. Data has no unit root and is stationary\")\n",
    "    else:\n",
    "        print(\"weak evidence against null hypothesis, time series has a unit root, indicating it is non-stationary \")\n",
    "    \n",
    "adfuller_test(df['Average_Voltage'])  "
   ]
  },
  {
   "cell_type": "code",
   "execution_count": 10,
   "metadata": {},
   "outputs": [
    {
     "data": {
      "image/png": "[encoded data removed]",
      "text/plain": [
       "<Figure size 640x480 with 1 Axes>"
      ]
     },
     "metadata": {},
     "output_type": "display_data"
    }
   ],
   "source": [
    "from pandas.plotting import autocorrelation_plot\n",
    "autocorrelation_plot(df['Average_Voltage'])\n",
    "plt.show()"
   ]
  },
  {
   "cell_type": "code",
   "execution_count": 11,
   "metadata": {},
   "outputs": [
    {
     "name": "stdout",
     "output_type": "stream",
     "text": [
      "Performing stepwise search to minimize aic\n",
      " ARIMA(2,1,2)(0,0,0)[0] intercept   : AIC=inf, Time=3.12 sec\n",
      " ARIMA(0,1,0)(0,0,0)[0] intercept   : AIC=65471.115, Time=0.15 sec\n",
      " ARIMA(1,1,0)(0,0,0)[0] intercept   : AIC=63982.845, Time=0.27 sec\n",
      " ARIMA(0,1,1)(0,0,0)[0] intercept   : AIC=inf, Time=1.14 sec\n",
      " ARIMA(0,1,0)(0,0,0)[0]             : AIC=65469.115, Time=0.07 sec\n",
      " ARIMA(2,1,0)(0,0,0)[0] intercept   : AIC=63225.948, Time=0.35 sec\n",
      " ARIMA(3,1,0)(0,0,0)[0] intercept   : AIC=62923.592, Time=0.45 sec\n",
      " ARIMA(4,1,0)(0,0,0)[0] intercept   : AIC=62710.251, Time=0.63 sec\n",
      " ARIMA(5,1,0)(0,0,0)[0] intercept   : AIC=62580.628, Time=0.96 sec\n",
      " ARIMA(5,1,1)(0,0,0)[0] intercept   : AIC=inf, Time=8.83 sec\n",
      " ARIMA(4,1,1)(0,0,0)[0] intercept   : AIC=inf, Time=6.63 sec\n",
      " ARIMA(5,1,0)(0,0,0)[0]             : AIC=62578.628, Time=0.40 sec\n",
      " ARIMA(4,1,0)(0,0,0)[0]             : AIC=62708.251, Time=0.32 sec\n",
      " ARIMA(5,1,1)(0,0,0)[0]             : AIC=inf, Time=3.58 sec\n",
      " ARIMA(4,1,1)(0,0,0)[0]             : AIC=inf, Time=2.54 sec\n",
      "\n",
      "Best model:  ARIMA(5,1,0)(0,0,0)[0]          \n",
      "Total fit time: 29.749 seconds\n"
     ]
    }
   ],
   "source": [
    "from pmdarima import auto_arima\n",
    "stepwise_fit = auto_arima(df['Average_Voltage'], trace=True,\n",
    "suppress_warnings=True)"
   ]
  },
  {
   "cell_type": "code",
   "execution_count": 12,
   "metadata": {},
   "outputs": [
    {
     "name": "stderr",
     "output_type": "stream",
     "text": [
      "c:\\Users\\Dell\\anaconda3\\lib\\site-packages\\statsmodels\\tsa\\base\\tsa_model.py:471: ValueWarning: A date index has been provided, but it has no associated frequency information and so will be ignored when e.g. forecasting.\n",
      "  self._init_dates(dates, freq)\n",
      "c:\\Users\\Dell\\anaconda3\\lib\\site-packages\\statsmodels\\tsa\\base\\tsa_model.py:471: ValueWarning: A date index has been provided, but it has no associated frequency information and so will be ignored when e.g. forecasting.\n",
      "  self._init_dates(dates, freq)\n",
      "c:\\Users\\Dell\\anaconda3\\lib\\site-packages\\statsmodels\\tsa\\base\\tsa_model.py:471: ValueWarning: A date index has been provided, but it has no associated frequency information and so will be ignored when e.g. forecasting.\n",
      "  self._init_dates(dates, freq)\n"
     ]
    },
    {
     "data": {
      "text/html": [
       "<table class=\"simpletable\">\n",
       "<caption>SARIMAX Results</caption>\n",
       "<tr>\n",
       "  <th>Dep. Variable:</th>    <td>Average_Voltage</td> <th>  No. Observations:  </th>    <td>6545</td>   \n",
       "</tr>\n",
       "<tr>\n",
       "  <th>Model:</th>            <td>ARIMA(5, 1, 0)</td>  <th>  Log Likelihood     </th> <td>-31283.314</td>\n",
       "</tr>\n",
       "<tr>\n",
       "  <th>Date:</th>            <td>Wed, 08 Nov 2023</td> <th>  AIC                </th>  <td>62578.628</td>\n",
       "</tr>\n",
       "<tr>\n",
       "  <th>Time:</th>                <td>12:50:09</td>     <th>  BIC                </th>  <td>62619.346</td>\n",
       "</tr>\n",
       "<tr>\n",
       "  <th>Sample:</th>                  <td>0</td>        <th>  HQIC               </th>  <td>62592.706</td>\n",
       "</tr>\n",
       "<tr>\n",
       "  <th></th>                      <td> - 6545</td>     <th>                     </th>      <td> </td>    \n",
       "</tr>\n",
       "<tr>\n",
       "  <th>Covariance Type:</th>        <td>opg</td>       <th>                     </th>      <td> </td>    \n",
       "</tr>\n",
       "</table>\n",
       "<table class=\"simpletable\">\n",
       "<tr>\n",
       "     <td></td>       <th>coef</th>     <th>std err</th>      <th>z</th>      <th>P>|z|</th>  <th>[0.025</th>    <th>0.975]</th>  \n",
       "</tr>\n",
       "<tr>\n",
       "  <th>ar.L1</th>  <td>   -0.7349</td> <td>    0.012</td> <td>  -59.637</td> <td> 0.000</td> <td>   -0.759</td> <td>   -0.711</td>\n",
       "</tr>\n",
       "<tr>\n",
       "  <th>ar.L2</th>  <td>   -0.5886</td> <td>    0.015</td> <td>  -39.348</td> <td> 0.000</td> <td>   -0.618</td> <td>   -0.559</td>\n",
       "</tr>\n",
       "<tr>\n",
       "  <th>ar.L3</th>  <td>   -0.4103</td> <td>    0.016</td> <td>  -26.151</td> <td> 0.000</td> <td>   -0.441</td> <td>   -0.380</td>\n",
       "</tr>\n",
       "<tr>\n",
       "  <th>ar.L4</th>  <td>   -0.2800</td> <td>    0.015</td> <td>  -19.174</td> <td> 0.000</td> <td>   -0.309</td> <td>   -0.251</td>\n",
       "</tr>\n",
       "<tr>\n",
       "  <th>ar.L5</th>  <td>   -0.1411</td> <td>    0.012</td> <td>  -11.565</td> <td> 0.000</td> <td>   -0.165</td> <td>   -0.117</td>\n",
       "</tr>\n",
       "<tr>\n",
       "  <th>sigma2</th> <td>  831.4775</td> <td>   15.373</td> <td>   54.087</td> <td> 0.000</td> <td>  801.347</td> <td>  861.608</td>\n",
       "</tr>\n",
       "</table>\n",
       "<table class=\"simpletable\">\n",
       "<tr>\n",
       "  <th>Ljung-Box (L1) (Q):</th>     <td>1.85</td> <th>  Jarque-Bera (JB):  </th> <td>12.12</td>\n",
       "</tr>\n",
       "<tr>\n",
       "  <th>Prob(Q):</th>                <td>0.17</td> <th>  Prob(JB):          </th> <td>0.00</td> \n",
       "</tr>\n",
       "<tr>\n",
       "  <th>Heteroskedasticity (H):</th> <td>0.94</td> <th>  Skew:              </th> <td>-0.01</td>\n",
       "</tr>\n",
       "<tr>\n",
       "  <th>Prob(H) (two-sided):</th>    <td>0.13</td> <th>  Kurtosis:          </th> <td>2.79</td> \n",
       "</tr>\n",
       "</table><br/><br/>Warnings:<br/>[1] Covariance matrix calculated using the outer product of gradients (complex-step)."
      ],
      "text/plain": [
       "<class 'statsmodels.iolib.summary.Summary'>\n",
       "\"\"\"\n",
       "                               SARIMAX Results                                \n",
       "==============================================================================\n",
       "Dep. Variable:        Average_Voltage   No. Observations:                 6545\n",
       "Model:                 ARIMA(5, 1, 0)   Log Likelihood              -31283.314\n",
       "Date:                Wed, 08 Nov 2023   AIC                          62578.628\n",
       "Time:                        12:50:09   BIC                          62619.346\n",
       "Sample:                             0   HQIC                         62592.706\n",
       "                               - 6545                                         \n",
       "Covariance Type:                  opg                                         \n",
       "==============================================================================\n",
       "                 coef    std err          z      P>|z|      [0.025      0.975]\n",
       "------------------------------------------------------------------------------\n",
       "ar.L1         -0.7349      0.012    -59.637      0.000      -0.759      -0.711\n",
       "ar.L2         -0.5886      0.015    -39.348      0.000      -0.618      -0.559\n",
       "ar.L3         -0.4103      0.016    -26.151      0.000      -0.441      -0.380\n",
       "ar.L4         -0.2800      0.015    -19.174      0.000      -0.309      -0.251\n",
       "ar.L5         -0.1411      0.012    -11.565      0.000      -0.165      -0.117\n",
       "sigma2       831.4775     15.373     54.087      0.000     801.347     861.608\n",
       "===================================================================================\n",
       "Ljung-Box (L1) (Q):                   1.85   Jarque-Bera (JB):                12.12\n",
       "Prob(Q):                              0.17   Prob(JB):                         0.00\n",
       "Heteroskedasticity (H):               0.94   Skew:                            -0.01\n",
       "Prob(H) (two-sided):                  0.13   Kurtosis:                         2.79\n",
       "===================================================================================\n",
       "\n",
       "Warnings:\n",
       "[1] Covariance matrix calculated using the outer product of gradients (complex-step).\n",
       "\"\"\""
      ]
     },
     "execution_count": 12,
     "metadata": {},
     "output_type": "execute_result"
    }
   ],
   "source": [
    "model=ARIMA(df['Average_Voltage'],order=(5,1,0))\n",
    "model_fit=model.fit()\n",
    "model_fit.summary()"
   ]
  },
  {
   "cell_type": "code",
   "execution_count": 13,
   "metadata": {},
   "outputs": [
    {
     "name": "stdout",
     "output_type": "stream",
     "text": [
      "(6180, 1) (365, 1)\n"
     ]
    }
   ],
   "source": [
    "#divide into train and validation set\n",
    "\n",
    "train=df.iloc[:len(df)-365]\n",
    "test=df.iloc[len(df)-365:]\n",
    "# # Define the size of the training set (e.g., 80%)\n",
    "# train_size = int(len(df) * 0.8)\n",
    "\n",
    "# # Split the data into train and test sets\n",
    "# train, test = df[0:train_size], df[train_size:]\n",
    "\n",
    "print(train.shape,test.shape)"
   ]
  },
  {
   "cell_type": "code",
   "execution_count": 14,
   "metadata": {},
   "outputs": [
    {
     "name": "stdout",
     "output_type": "stream",
     "text": [
      "6180 6544\n"
     ]
    },
    {
     "data": {
      "text/plain": [
       "<AxesSubplot:xlabel='Datetime'>"
      ]
     },
     "execution_count": 14,
     "metadata": {},
     "output_type": "execute_result"
    },
    {
     "data": {
      "image/png": "[encoded data removed]",
      "text/plain": [
       "<Figure size 640x480 with 1 Axes>"
      ]
     },
     "metadata": {},
     "output_type": "display_data"
    }
   ],
   "source": [
    "start=len(train)\n",
    "end=len(train)+len(test)-1\n",
    "print(start,end)\n",
    "pred=model_fit.predict(start=start,end=end,typ='levels').rename('ARIMA Predictions')\n",
    "pred.plot(legend=True)\n",
    "test['Average_Voltage'].plot(legend=True)"
   ]
  },
  {
   "cell_type": "code",
   "execution_count": 15,
   "metadata": {},
   "outputs": [
    {
     "name": "stdout",
     "output_type": "stream",
     "text": [
      "29.722355664987763\n"
     ]
    }
   ],
   "source": [
    "from sklearn.metrics import mean_squared_error\n",
    "from math import sqrt\n",
    "test['Average_Voltage'].mean()\n",
    "rmse=sqrt(mean_squared_error(pred,test['Average_Voltage']))\n",
    "print(rmse)"
   ]
  },
  {
   "cell_type": "code",
   "execution_count": 16,
   "metadata": {},
   "outputs": [
    {
     "name": "stdout",
     "output_type": "stream",
     "text": [
      "Accuracy: 92.56%\n"
     ]
    }
   ],
   "source": [
    "from sklearn.metrics import mean_squared_error\n",
    "from math import sqrt\n",
    "\n",
    "# Calculate the mean of the test data\n",
    "mean_value = test['Average_Voltage'].mean()\n",
    "\n",
    "# Calculate the RMSE\n",
    "rmse = sqrt(mean_squared_error(pred, test['Average_Voltage']))\n",
    "\n",
    "# Calculate the accuracy in percentage\n",
    "accuracy = (1 - (rmse / mean_value)) * 100\n",
    "\n",
    "print(f\"Accuracy: {accuracy:.2f}%\")\n"
   ]
  },
  {
   "cell_type": "code",
   "execution_count": null,
   "metadata": {},
   "outputs": [],
   "source": []
  },
  {
   "cell_type": "code",
   "execution_count": null,
   "metadata": {},
   "outputs": [],
   "source": []
  },
  {
   "cell_type": "code",
   "execution_count": null,
   "metadata": {},
   "outputs": [],
   "source": []
  },
  {
   "cell_type": "code",
   "execution_count": null,
   "metadata": {},
   "outputs": [],
   "source": []
  }
 ],
 "metadata": {
  "kernelspec": {
   "display_name": "base",
   "language": "python",
   "name": "python3"
  },
  "language_info": {
   "codemirror_mode": {
    "name": "ipython",
    "version": 3
   },
   "file_extension": ".py",
   "mimetype": "text/x-python",
   "name": "python",
   "nbconvert_exporter": "python",
   "pygments_lexer": "ipython3",
   "version": "3.9.13"
  }
 },
 "nbformat": 4,
 "nbformat_minor": 2
}
